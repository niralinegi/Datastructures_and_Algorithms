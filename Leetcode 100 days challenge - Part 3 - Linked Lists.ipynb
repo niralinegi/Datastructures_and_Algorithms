{
 "cells": [
  {
   "cell_type": "markdown",
   "id": "c5eaee0f",
   "metadata": {},
   "source": [
    "### Remove Duplicates from Sorted Array"
   ]
  },
  {
   "cell_type": "markdown",
   "id": "dce74f05",
   "metadata": {},
   "source": [
    "Given an integer array nums sorted in non-decreasing order, remove the duplicates in-place such that each unique element appears only once. The relative order of the elements should be kept the same.\n",
    "\n",
    "Input: nums = [1,1,2]\n",
    "Output: 2, nums = [1,2,_]\n",
    "Explanation: Your function should return k = 2, with the first two elements of nums being 1 and 2 respectively.\n",
    "It does not matter what you leave beyond the returned k (hence they are underscores)."
   ]
  },
  {
   "cell_type": "code",
   "execution_count": 6,
   "id": "399659d4",
   "metadata": {},
   "outputs": [
    {
     "name": "stdout",
     "output_type": "stream",
     "text": [
      "2\n"
     ]
    }
   ],
   "source": [
    "def removeDuplicates(nums):\n",
    "    x = 1\n",
    "    for i in range(len(nums)):\n",
    "        if nums[i] > nums[x-1]:\n",
    "            nums[x] = nums[i]\n",
    "            x += 1\n",
    "    return x\n",
    "    \n",
    "nums =[1,1,2]\n",
    "print(removeDuplicates(nums))"
   ]
  },
  {
   "cell_type": "markdown",
   "id": "7dfbd831",
   "metadata": {},
   "source": [
    "### Delete Node in a Linked List\n",
    "Write a function to delete a node in a singly-linked list. You will not be given access to the head of the list, instead you will be given access to the node to be deleted directly.\n",
    "\n",
    "It is guaranteed that the node to be deleted is not a tail node in the list.\n",
    "\n",
    "Input: head = [4,5,1,9], node = 5\n",
    "Output: [4,1,9]\n",
    "Explanation: You are given the second node with value 5, the linked list should become 4 -> 1 -> 9 after calling your function."
   ]
  },
  {
   "cell_type": "code",
   "execution_count": 17,
   "id": "275e6bcd",
   "metadata": {},
   "outputs": [],
   "source": [
    "# Definition for singly-linked list.\n",
    "# class ListNode(object):\n",
    "#     def __init__(self, x):\n",
    "#         self.val = x\n",
    "#         self.next = None\n",
    "\n",
    "class Solution(object):\n",
    "    def deleteNode(self, node):\n",
    "        \"\"\"\n",
    "        :type node: ListNode\n",
    "        :rtype: void Do not return anything, modify node in-place instead.\n",
    "        \"\"\"\n",
    "        node.val = node.next.val\n",
    "        node.next = node.next.next"
   ]
  },
  {
   "cell_type": "markdown",
   "id": "6cd1438a",
   "metadata": {},
   "source": [
    "### Remove Nth Node From End of List\n",
    "Given the head of a linked list, remove the nth node from the end of the list and return its head.\n",
    "Input: head = [1,2,3,4,5], n = 2\n",
    "\n",
    "Output: [1,2,3,5]"
   ]
  },
  {
   "cell_type": "code",
   "execution_count": 1,
   "id": "fb64ce6f",
   "metadata": {},
   "outputs": [],
   "source": [
    "# Definition for singly-linked list.\n",
    "# class ListNode:\n",
    "#     def __init__(self, val=0, next=None):\n",
    "#         self.val = val\n",
    "#         self.next = next\n",
    "class Solution:\n",
    "    def removeNthFromEnd(self, head, n):\n",
    "        dummy = ListNode(0, head)\n",
    "        right = head\n",
    "        left = dummy\n",
    "        \n",
    "        while n > 0 and right:\n",
    "            right = right.next\n",
    "            n-=1\n",
    "            \n",
    "        while right:\n",
    "            right = right.next\n",
    "            left = left.next\n",
    "            \n",
    "        # delete node\n",
    "        left.next = left.next.next\n",
    "        dummy = dummy.next\n",
    "        return dummy"
   ]
  },
  {
   "cell_type": "markdown",
   "id": "aba80955",
   "metadata": {},
   "source": [
    "### Reverse Linked List\n",
    "Given the head of a singly linked list, reverse the list, and return the reversed list.\n",
    "\n",
    "Input: head = [1,2,3,4,5]\n",
    "Output: [5,4,3,2,1]"
   ]
  },
  {
   "cell_type": "code",
   "execution_count": 2,
   "id": "fe4cc9c7",
   "metadata": {},
   "outputs": [],
   "source": [
    "# Definition for singly-linked list.\n",
    "# class ListNode:\n",
    "#     def __init__(self, val=0, next=None):\n",
    "#         self.val = val\n",
    "#         self.next = next\n",
    "class Solution:\n",
    "    def reverseList(self, head):\n",
    "        prev = None\n",
    "        curr = head\n",
    "        \n",
    "        while curr:\n",
    "            nxt = curr.next\n",
    "            curr.next = prev\n",
    "            prev = curr\n",
    "            curr = nxt\n",
    "            \n",
    "        return prev"
   ]
  },
  {
   "cell_type": "markdown",
   "id": "40e5940e",
   "metadata": {},
   "source": [
    "### Merge Two Sorted Lists\n",
    "You are given the heads of two sorted linked lists list1 and list2.\n",
    "\n",
    "Merge the two lists in a one sorted list. The list should be made by splicing together the nodes of the first two lists.\n",
    "\n",
    "Return the head of the merged linked list.\n",
    "\n",
    "Input: list1 = [1,2,4], list2 = [1,3,4]\n",
    "\n",
    "Output: [1,1,2,3,4,4]"
   ]
  },
  {
   "cell_type": "code",
   "execution_count": 4,
   "id": "7e7cf750",
   "metadata": {},
   "outputs": [],
   "source": [
    "# Definition for singly-linked list.\n",
    "# class ListNode:\n",
    "#     def __init__(self, val=0, next=None):\n",
    "#         self.val = val\n",
    "#         self.next = next\n",
    "class Solution:\n",
    "    def mergeTwoLists(self, list1, list2):\n",
    "        dummy = ListNode()\n",
    "        tail = dummy\n",
    "        \n",
    "        while list1 and list2:\n",
    "            if list1.val < list2.val:\n",
    "                tail.next = list1\n",
    "                list1 = list1.next\n",
    "            else:\n",
    "                tail.next = list2\n",
    "                list2 = list2.next\n",
    "            tail = tail.next\n",
    "            \n",
    "        if list1:\n",
    "            tail.next = list1\n",
    "        elif list2:\n",
    "            tail.next = list2\n",
    "            \n",
    "        return dummy.next\n",
    "        "
   ]
  },
  {
   "cell_type": "markdown",
   "id": "c74d3edb",
   "metadata": {},
   "source": [
    "### Palindrome Linked List\n",
    "Given the head of a singly linked list, return true if it is a palindrome.\n",
    "\n",
    "Input: head = [1,2,2,1]\n",
    "\n",
    "Output: true"
   ]
  },
  {
   "cell_type": "code",
   "execution_count": 7,
   "id": "58a13ed7",
   "metadata": {},
   "outputs": [],
   "source": [
    "# array solution with space O(n)\n",
    "# Definition for singly-linked list.\n",
    "# class ListNode:\n",
    "#     def __init__(self, val=0, next=None):\n",
    "#         self.val = val\n",
    "#         self.next = next\n",
    "class Solution:\n",
    "    def isPalindrome(head):\n",
    "        nums = []\n",
    "        while head:\n",
    "            nums.append(head.val)\n",
    "            head = head.next\n",
    "        \n",
    "        l,r = 0, len(nums)-1\n",
    "        \n",
    "        while l <= r:\n",
    "            if nums[l] != nums[r]:\n",
    "                return False\n",
    "            l += 1\n",
    "            r -= 1\n",
    "        return True"
   ]
  },
  {
   "cell_type": "markdown",
   "id": "2479e5fd",
   "metadata": {},
   "source": [
    "### Linked List Cycle\n",
    "Given head, the head of a linked list, determine if the linked list has a cycle in it.\n",
    "\n",
    "There is a cycle in a linked list if there is some node in the list that can be reached again by continuously following the next pointer. Internally, pos is used to denote the index of the node that tail's next pointer is connected to. Note that pos is not passed as a parameter.\n",
    "\n",
    "Return true if there is a cycle in the linked list. Otherwise, return false.\n",
    "\n",
    "Input: head = [3,2,0,-4], pos = 1\n",
    "\n",
    "Output: true\n",
    "\n",
    "Explanation: There is a cycle in the linked list, where the tail connects to the 1st node (0-indexed)."
   ]
  },
  {
   "cell_type": "code",
   "execution_count": 9,
   "id": "bd5316da",
   "metadata": {},
   "outputs": [],
   "source": [
    "# Definition for singly-linked list.\n",
    "# class ListNode:\n",
    "#     def __init__(self, x):\n",
    "#         self.val = x\n",
    "#         self.next = None\n",
    "\n",
    "class Solution:\n",
    "    def hasCycle(self, head):\n",
    "        slow, fast = head, head\n",
    "        \n",
    "        while fast and fast.next:\n",
    "            slow = slow.next\n",
    "            fast = fast.next.next\n",
    "            \n",
    "            if slow == fast:\n",
    "                return True\n",
    "        return False"
   ]
  },
  {
   "cell_type": "code",
   "execution_count": null,
   "id": "ced356d3",
   "metadata": {},
   "outputs": [],
   "source": []
  }
 ],
 "metadata": {
  "kernelspec": {
   "display_name": "Python 3",
   "language": "python",
   "name": "python3"
  },
  "language_info": {
   "codemirror_mode": {
    "name": "ipython",
    "version": 3
   },
   "file_extension": ".py",
   "mimetype": "text/x-python",
   "name": "python",
   "nbconvert_exporter": "python",
   "pygments_lexer": "ipython3",
   "version": "3.8.8"
  }
 },
 "nbformat": 4,
 "nbformat_minor": 5
}
