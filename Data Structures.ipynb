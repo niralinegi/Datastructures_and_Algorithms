{
 "cells": [
  {
   "cell_type": "markdown",
   "id": "f2955c53",
   "metadata": {},
   "source": [
    "### Find Duplicates"
   ]
  },
  {
   "cell_type": "code",
   "execution_count": 1,
   "id": "a72638a2",
   "metadata": {},
   "outputs": [
    {
     "data": {
      "text/plain": [
       "True"
      ]
     },
     "execution_count": 1,
     "metadata": {},
     "output_type": "execute_result"
    }
   ],
   "source": [
    "def containsDuplicate(nums):\n",
    "    dups = {}\n",
    "    for i in range(0, len(nums)):\n",
    "        if nums[i] in dups:\n",
    "            dups[nums[i]] += 1\n",
    "            return True\n",
    "        else:\n",
    "            dups[nums[i]] = 1\n",
    "    \n",
    "    return False\n",
    "        \n",
    "containsDuplicate([2,14,18,22,22])"
   ]
  },
  {
   "cell_type": "markdown",
   "id": "645f41cf",
   "metadata": {},
   "source": [
    "### Maximum Subarray\n",
    "Given an integer array nums, find the contiguous subarray (containing at least one number) which has the largest sum and return its sum.\n",
    "\n",
    "A subarray is a contiguous part of an array.\n",
    "\n",
    "Input: nums = [-2,1,-3,4,-1,2,1,-5,4]\n",
    "\n",
    "Output: 6\n",
    "\n",
    "Explanation: [4,-1,2,1] has the largest sum = 6."
   ]
  },
  {
   "cell_type": "code",
   "execution_count": 24,
   "id": "7a2335d5",
   "metadata": {},
   "outputs": [
    {
     "name": "stdout",
     "output_type": "stream",
     "text": [
      "23\n"
     ]
    }
   ],
   "source": [
    "def maxSubArray(nums):\n",
    "    for i in range(1, len(nums)):\n",
    "        \n",
    "        nums[i] = max(nums[i], nums[i-1]+nums[i])\n",
    "        \n",
    "    return max(nums)\n",
    "\n",
    "print(maxSubArray([5,4,-1,7,8]))"
   ]
  },
  {
   "cell_type": "code",
   "execution_count": null,
   "id": "86a712cb",
   "metadata": {},
   "outputs": [],
   "source": []
  },
  {
   "cell_type": "code",
   "execution_count": null,
   "id": "7992d72a",
   "metadata": {},
   "outputs": [],
   "source": []
  },
  {
   "cell_type": "code",
   "execution_count": null,
   "id": "a449075e",
   "metadata": {},
   "outputs": [],
   "source": []
  }
 ],
 "metadata": {
  "kernelspec": {
   "display_name": "Python 3",
   "language": "python",
   "name": "python3"
  },
  "language_info": {
   "codemirror_mode": {
    "name": "ipython",
    "version": 3
   },
   "file_extension": ".py",
   "mimetype": "text/x-python",
   "name": "python",
   "nbconvert_exporter": "python",
   "pygments_lexer": "ipython3",
   "version": "3.8.8"
  }
 },
 "nbformat": 4,
 "nbformat_minor": 5
}
