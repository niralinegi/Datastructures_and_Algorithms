{
 "cells": [
  {
   "cell_type": "markdown",
   "id": "1ab8f1d2",
   "metadata": {},
   "source": [
    "### Selection Sort:\n",
    "This algorithm works by repeatedly finding the minimum element in the list and placing it at the beginning. This way, the algorithm maintains two lists:\n",
    "\n",
    "the sublist of already-sorted elements, which is filled from left to right\n",
    "the sublist of the remaining unsorted elements that need to be sorted\n",
    "In other words, this algorithm works by iterating over the list and swapping each element with the minimum (or maximum) element found in the unsorted list with that in the sorted list."
   ]
  },
  {
   "cell_type": "code",
   "execution_count": 7,
   "id": "de4bc549",
   "metadata": {},
   "outputs": [
    {
     "name": "stdout",
     "output_type": "stream",
     "text": [
      "[2, 3, 4, 6, 8]\n"
     ]
    }
   ],
   "source": [
    "def SelectionSort(arr):\n",
    "    \n",
    "    for i in range(len(arr)):\n",
    "        minIdx = i\n",
    "        for j in range(i+1, len(arr)):\n",
    "            if arr[j] < arr[minIdx]:\n",
    "                minIdx = j\n",
    "        arr[i], arr[minIdx] = arr[minIdx], arr[i]  \n",
    "    print(arr)\n",
    "    \n",
    "SelectionSort([4,2,6,8,3])\n",
    "# Time complexity is O(n^2)"
   ]
  },
  {
   "cell_type": "markdown",
   "id": "b594ad4d",
   "metadata": {},
   "source": [
    "### Bubble sort algorithm:\n",
    "This is another famous sorting algorithm also known as ‘sinking sort’. It works by comparing adjacent pairs of elements and swapping them if they are in the wrong order. This is repeated until the list is sorted."
   ]
  },
  {
   "cell_type": "code",
   "execution_count": 9,
   "id": "edc0b158",
   "metadata": {},
   "outputs": [
    {
     "name": "stdout",
     "output_type": "stream",
     "text": [
      "[2, 3, 4, 6, 8]\n"
     ]
    }
   ],
   "source": [
    "def BubbleSort(arr):\n",
    "    for i in range(len(arr)):\n",
    "        for j in range(0, len(arr)-i-1):\n",
    "            if arr[j] > arr[j+1]:\n",
    "                arr[j], arr[j+1] = arr[j+1], arr[j]\n",
    "                \n",
    "    print(arr)\n",
    "    \n",
    "BubbleSort([4,2,6,8,3])\n",
    "# Time complexity is O(n^2)"
   ]
  },
  {
   "cell_type": "markdown",
   "id": "63d69866",
   "metadata": {},
   "source": [
    "### Insertion sort:\n",
    "Insertion sort is another famous sorting algorithm and works the way you would naturally sort in real life.\n",
    "\n",
    "It iterates over the given list, figures out what the correct position of every element is, and inserts it there."
   ]
  },
  {
   "cell_type": "code",
   "execution_count": 10,
   "id": "4fee5528",
   "metadata": {},
   "outputs": [
    {
     "name": "stdout",
     "output_type": "stream",
     "text": [
      "[4, 3, 6, 8, 3]\n"
     ]
    }
   ],
   "source": [
    "def InsertionSort(arr):\n",
    "    \n",
    "    for i in range(1, len(arr)):\n",
    "        key = arr[i]\n",
    "        while j >= 0 and key < arr[j]:\n",
    "            if arr[j+1] > \n",
    "            \n",
    "    print(arr)\n",
    "    \n",
    "InsertionSort([4,2,6,8,3])"
   ]
  },
  {
   "cell_type": "code",
   "execution_count": null,
   "id": "b836264d",
   "metadata": {},
   "outputs": [],
   "source": []
  }
 ],
 "metadata": {
  "kernelspec": {
   "display_name": "Python 3",
   "language": "python",
   "name": "python3"
  },
  "language_info": {
   "codemirror_mode": {
    "name": "ipython",
    "version": 3
   },
   "file_extension": ".py",
   "mimetype": "text/x-python",
   "name": "python",
   "nbconvert_exporter": "python",
   "pygments_lexer": "ipython3",
   "version": "3.8.8"
  }
 },
 "nbformat": 4,
 "nbformat_minor": 5
}
