{
 "cells": [
  {
   "cell_type": "markdown",
   "id": "bd998318",
   "metadata": {},
   "source": [
    "Lexicographically smallest string formed by removing duplicates\n",
    "Input: S = “yzxyz”\n",
    "Output: xyz\n",
    "Explanation: Removing the duplicate characters at indices 0 and 1 in the given string, the remaining string “xyz” consists only of unique alphabets only and is the smallest possible string in lexicographical order.\n",
    "\n",
    "Input: S = “acbc”\n",
    "Output: “abc”\n",
    "Explanation: Removing the duplicate characters at index 3 in the given string, the remaining string “abc” consists only of unique alphabets only and is the smallest possible string in lexicographical order."
   ]
  },
  {
   "cell_type": "code",
   "execution_count": 20,
   "id": "02996b36",
   "metadata": {},
   "outputs": [
    {
     "name": "stdout",
     "output_type": "stream",
     "text": [
      "Counter({'y': 2, 'z': 2, 'x': 1})\n",
      "['y']\n",
      "{'y'}\n",
      "['y', 'z']\n",
      "{'z', 'y'}\n",
      "Counter({'y': 1, 'z': 1, 'x': 0})\n",
      "removed z\n",
      "Counter({'y': 1, 'z': 1, 'x': 0})\n",
      "removed y\n",
      "['x']\n",
      "{'x'}\n",
      "['x', 'y']\n",
      "{'x', 'y'}\n",
      "['x', 'y', 'z']\n",
      "{'z', 'x', 'y'}\n",
      "['x', 'y', 'z']\n"
     ]
    }
   ],
   "source": [
    "from collections import Counter\n",
    "\n",
    "s = 'yzxyz'\n",
    "def removeDuplicateLetters(s):\n",
    "    stack = []\n",
    "    seen = set()\n",
    "    count = Counter(s)\n",
    "    print(count)\n",
    "    \n",
    "    for c in s:\n",
    "        count[c] -= 1\n",
    "        if c in seen:\n",
    "            continue\n",
    "        while stack and c < stack[-1] and count[stack[-1]] > 0:\n",
    "            print(count)\n",
    "            removed = stack.pop()\n",
    "            print('removed', removed)\n",
    "            seen.remove(removed)\n",
    "        stack.append(c)\n",
    "        seen.add(c)\n",
    "        print(stack)\n",
    "        print(seen)\n",
    "        \n",
    "    print(stack)\n",
    "removeDuplicateLetters(s)"
   ]
  },
  {
   "cell_type": "markdown",
   "id": "a62d164d",
   "metadata": {},
   "source": [
    "Count minimum number of fountains to be activated to cover the entire garden"
   ]
  },
  {
   "cell_type": "code",
   "execution_count": null,
   "id": "634f459d",
   "metadata": {},
   "outputs": [],
   "source": []
  },
  {
   "cell_type": "markdown",
   "id": "b632f5d7",
   "metadata": {},
   "source": [
    "Find occurrences of a given element in a long sorted array"
   ]
  },
  {
   "cell_type": "code",
   "execution_count": 32,
   "id": "8607c837",
   "metadata": {},
   "outputs": [
    {
     "name": "stdout",
     "output_type": "stream",
     "text": [
      "3\n"
     ]
    }
   ],
   "source": [
    "arr = [4, 4, 8, 8, 8, 15, 16, 23, 23, 42]\n",
    "target = 8\n",
    "\n",
    "def countOcc(arr, target):\n",
    "    count = Counter(arr)\n",
    "    \n",
    "    print(count[target])\n",
    "    \n",
    "countOcc(arr, target)"
   ]
  },
  {
   "cell_type": "code",
   "execution_count": 34,
   "id": "fd2b2053",
   "metadata": {},
   "outputs": [
    {
     "data": {
      "text/plain": [
       "3"
      ]
     },
     "execution_count": 34,
     "metadata": {},
     "output_type": "execute_result"
    }
   ],
   "source": [
    "def binary_search(arr, l, r, target):\n",
    "    mid = (l+(r-l))//2\n",
    "    \n",
    "    if arr[mid] == target:\n",
    "        return mid\n",
    "    \n",
    "    if arr[mid] > x:\n",
    "        r = mid-1\n",
    "        return binary_search(arr, l, r, target)\n",
    "        \n",
    "    else:\n",
    "        l = mid+1\n",
    "        return binary_search(arr, l, r, target)\n",
    "\n",
    "def count_occurences(arr, n, target):\n",
    "    idx = binary_search(arr, 0, n-1, target)\n",
    "    \n",
    "    # count in left\n",
    "    count = 1\n",
    "    left = idx-1\n",
    "    while (left >= 0 and arr[left] == target):\n",
    "        count += 1\n",
    "        left -= 1\n",
    "    # count in right    \n",
    "    right = idx+1\n",
    "    while (right < n and arr[right] == target):\n",
    "        count += 1\n",
    "        right += 1\n",
    "        \n",
    "    return count\n",
    "\n",
    "n = len(arr)\n",
    "count_occurences(arr, n, target)"
   ]
  },
  {
   "cell_type": "markdown",
   "id": "d5e8d7cf",
   "metadata": {},
   "source": [
    "Find the max element in an unsorted array."
   ]
  },
  {
   "cell_type": "markdown",
   "id": "fe9edd4a",
   "metadata": {},
   "source": [
    "Input: arr[] = {7, 10, 4, 3, 20, 15} \n",
    "k = 3 \n",
    "Output: 7"
   ]
  },
  {
   "cell_type": "code",
   "execution_count": 56,
   "id": "e8b9a8d0",
   "metadata": {},
   "outputs": [
    {
     "name": "stdout",
     "output_type": "stream",
     "text": [
      "5\n"
     ]
    }
   ],
   "source": [
    "arr = [3,2,1,5,6,4]\n",
    "k = 2\n",
    "\n",
    "def kthLargestele(arr, k):\n",
    "    arr.sort()\n",
    "    return arr[len(arr)-k]\n",
    "\n",
    "print(kthLargestele(arr, k))"
   ]
  },
  {
   "cell_type": "code",
   "execution_count": 58,
   "id": "08272337",
   "metadata": {},
   "outputs": [
    {
     "name": "stdout",
     "output_type": "stream",
     "text": [
      "5\n"
     ]
    }
   ],
   "source": [
    "def kthLargestele(arr, k):\n",
    "    k = len(arr) - k\n",
    "    \n",
    "    def quickSelect(l, r):\n",
    "        pivot = arr[r]\n",
    "        p = l\n",
    "        for i in range(l,r):\n",
    "            if arr[i] <= pivot:\n",
    "                arr[p], arr[i] = arr[i], arr[p]\n",
    "                p += 1\n",
    "        arr[p], arr[r] = arr[r], arr[p]   \n",
    "        if p > k: return quickSelect(l, p-1)\n",
    "        elif p < k: return quickSelect(p+1, r)\n",
    "        else: return arr[p]\n",
    "    return quickSelect(0, len(arr)-1)\n",
    "                \n",
    "print(kthLargestele(arr, k))       "
   ]
  },
  {
   "cell_type": "code",
   "execution_count": 72,
   "id": "e45dcae1",
   "metadata": {},
   "outputs": [
    {
     "name": "stdout",
     "output_type": "stream",
     "text": [
      "1\n"
     ]
    }
   ],
   "source": [
    "# return 1 if number is prime else return its smallest divisorabs\n",
    "\n",
    "def isPrime(n):\n",
    "    if n <= 2:\n",
    "        return 1\n",
    "    for i in range(2, n):\n",
    "        if n % i == 0:\n",
    "            return i\n",
    "    return 1\n",
    "\n",
    "print(isPrime(31))"
   ]
  },
  {
   "cell_type": "code",
   "execution_count": 85,
   "id": "dbebd6d2",
   "metadata": {},
   "outputs": [
    {
     "name": "stdout",
     "output_type": "stream",
     "text": [
      "1 2\n",
      "2 3\n",
      "3 4\n"
     ]
    }
   ],
   "source": [
    "# return the pairs who have minimum absolute difference\n",
    "arr = [4,2,1,3]\n",
    "\n",
    "def pairsDiff(arr):\n",
    "    minDiff = 1000000\n",
    "    l = 0\n",
    "    arr.sort()\n",
    "    for i in range(1, len(arr)):\n",
    "        minDiff = min(minDiff, abs(arr[i]-arr[i-1]))\n",
    "        \n",
    "    while l < len(arr):\n",
    "        if abs(arr[l]-arr[l-1]) == minDiff:\n",
    "            print(arr[l-1],arr[l])\n",
    "        l += 1\n",
    "pairsDiff(arr)"
   ]
  },
  {
   "cell_type": "code",
   "execution_count": null,
   "id": "01e54720",
   "metadata": {},
   "outputs": [],
   "source": []
  },
  {
   "cell_type": "code",
   "execution_count": null,
   "id": "f0f6c80d",
   "metadata": {},
   "outputs": [],
   "source": []
  },
  {
   "cell_type": "code",
   "execution_count": null,
   "id": "6ee35e1b",
   "metadata": {},
   "outputs": [],
   "source": []
  }
 ],
 "metadata": {
  "kernelspec": {
   "display_name": "Python 3",
   "language": "python",
   "name": "python3"
  },
  "language_info": {
   "codemirror_mode": {
    "name": "ipython",
    "version": 3
   },
   "file_extension": ".py",
   "mimetype": "text/x-python",
   "name": "python",
   "nbconvert_exporter": "python",
   "pygments_lexer": "ipython3",
   "version": "3.8.8"
  }
 },
 "nbformat": 4,
 "nbformat_minor": 5
}
